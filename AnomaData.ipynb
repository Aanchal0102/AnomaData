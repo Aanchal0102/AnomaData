{
 "cells": [
  {
   "cell_type": "code",
   "execution_count": null,
   "id": "d810a3ad-9eb6-420b-96cd-21ee90a081f9",
   "metadata": {},
   "outputs": [
    {
     "name": "stdout",
     "output_type": "stream",
     "text": [
      "time    0\n",
      "y       0\n",
      "x1      0\n",
      "x2      0\n",
      "x3      0\n",
      "       ..\n",
      "x57     0\n",
      "x58     0\n",
      "x59     0\n",
      "x60     0\n",
      "y.1     0\n",
      "Length: 62, dtype: int64\n"
     ]
    }
   ],
   "source": [
    "# AnomaData Project: Exploratory Data Analysis\n",
    "\n",
    "import pandas as pd\n",
    "import seaborn as sns\n",
    "import matplotlib.pyplot as plt\n",
    "\n",
    "# Load the dataset\n",
    "df = pd.read_csv('AnomaData.csv')\n",
    "\n",
    "# Check for missing values\n",
    "print(df.isnull().sum())\n",
    "\n",
    "# Visualize the distribution of each feature\n",
    "for col in df.columns[:-1]:  # exclude the target variable 'y'\n",
    "    plt.figure(figsize=(8, 6))\n",
    "    sns.histplot(df[col], bins='auto')\n",
    "    plt.title(f'Distribution of {col}')\n",
    "    plt.xticks(rotation=45)\n",
    "    plt.show()\n",
    "\n",
    "# Calculate summary statistics for each feature\n",
    "print(df.describe())\n",
    "print(df.info())\n",
    "print(df.corr())\n",
    "\n",
    "# Visualize the target variable 'y'\n",
    "plt.figure(figsize=(8, 6))\n",
    "sns.countplot(df['y'])\n",
    "plt.title('Count of Anomalies and Non-Anomalies')\n",
    "plt.show()"
   ]
  },
  {
   "cell_type": "code",
   "execution_count": null,
   "id": "3e082bff-02d8-4a0c-86ac-ff753fa4a45e",
   "metadata": {},
   "outputs": [],
   "source": [
    "# Handle missing values\n",
    "df.fillna(df.mean(), inplace=True)\n",
    "\n",
    "# Remove duplicates\n",
    "df.drop_duplicates(inplace=True)\n",
    "\n",
    "# Normalize data\n",
    "from sklearn.preprocessing import MinMaxScaler\n",
    "scaler = MinMaxScaler()\n",
    "df[['x1', 'x2', ...]] = scaler.fit_transform(df[['x1', 'x2', ...]])\n",
    "\n",
    "# Encode categorical variables\n",
    "df['x_cat'] = pd.get_dummies(df['x_cat'])\n",
    "\n",
    "# Remove outliers\n",
    "from scipy import stats\n",
    "df = df[(np.abs(stats.zscore(df)) < 3).all(axis=1)]"
   ]
  },
  {
   "cell_type": "code",
   "execution_count": null,
   "id": "d201d35a-bdec-4f75-9312-d0f9765ec672",
   "metadata": {},
   "outputs": [],
   "source": [
    "# Extract date components\n",
    "df['date'] = pd.to_datetime(df['date'])\n",
    "df['day'] = df['date'].dt.day\n",
    "df['month'] = df['date'].dt.month\n",
    "df['year'] = df['date'].dt.year\n",
    "\n",
    "# Create interaction terms\n",
    "df['x1_x2'] = df['x1'] * df['x2']\n",
    "\n",
    "# Transform categorical variable\n",
    "df['x_cat'] = pd.get_dummies(df['x_cat'])\n",
    "\n",
    "# Calculate statistical moments\n",
    "df['x_mean'] = df['x'].mean()\n",
    "df['x_std'] = df['x'].std()"
   ]
  },
  {
   "cell_type": "code",
   "execution_count": null,
   "id": "7da4d749-2433-41c8-b059-10224ad6e532",
   "metadata": {},
   "outputs": [],
   "source": [
    "from sklearn.ensemble import RandomForestClassifier\n",
    "from sklearn.linear_model import LogisticRegression\n",
    "from sklearn.svm import SVC\n",
    "\n",
    "# Define models\n",
    "models = {\n",
    "    'Random Forest': RandomForestClassifier(),\n",
    "    'Logistic Regression': LogisticRegression(),\n",
    "    'Support Vector Machine': SVC()\n",
    "}"
   ]
  },
  {
   "cell_type": "code",
   "execution_count": null,
   "id": "5f5c0816-10c2-4788-be28-3507d8e62305",
   "metadata": {},
   "outputs": [],
   "source": [
    "from sklearn.model_selection import train_test_split\n",
    "from sklearn.metrics import accuracy_score\n",
    "\n",
    "# Split data into training and testing sets\n",
    "X_train, X_test, y_train, y_test = train_test_split(df.drop('y', axis=1), df['y'], test_size=0.2, random_state=42)\n",
    "\n",
    "# Train models\n",
    "for name, model in models.items():\n",
    "    model.fit(X_train, y_train)\n",
    "    y_pred = model.predict(X_test)\n",
    "    print(f\"{name}: {accuracy_score(y_test, y_pred):.3f}\")"
   ]
  },
  {
   "cell_type": "code",
   "execution_count": null,
   "id": "e8d562d8-a081-4c5a-b6a8-a92df17addc4",
   "metadata": {},
   "outputs": [],
   "source": [
    "from sklearn.metrics import classification_report, confusion_matrix\n",
    "\n",
    "# Evaluate models\n",
    "for name, model in models.items():\n",
    "    y_pred = model.predict(X_test)\n",
    "    print(f\"{name}:\")\n",
    "    print(classification_report(y_test, y_pred))\n",
    "    print(confusion_matrix(y_test, y_pred))"
   ]
  },
  {
   "cell_type": "code",
   "execution_count": null,
   "id": "28cdf688-798f-4eb5-a4cf-4c0662728821",
   "metadata": {},
   "outputs": [],
   "source": [
    "from sklearn.model_selection import GridSearchCV\n",
    "\n",
    "# Define hyperparameter tuning space\n",
    "param_grid = {\n",
    "    'Random Forest': {'n_estimators': [100, 200, 300], 'max_depth': [None, 5, 10]},\n",
    "    'Logistic Regression': {'C': [0.1, 1, 10], 'penalty': ['l1', 'l2']},\n",
    "    'Support Vector Machine': {'C': [0.1, 1, 10], 'kernel': ['linear', 'rbf']}\n",
    "}\n",
    "\n",
    "# Perform grid search\n",
    "for name, model in models.items():\n",
    "    grid_search = GridSearchCV(model, param_grid[name], cv=5, scoring='accuracy')\n",
    "    grid_search.fit(X_train, y_train)\n",
    "    print(f\"{name}: Best params = {grid_search.best_params_}, Best score = {grid_search.best_score_}\")"
   ]
  },
  {
   "cell_type": "code",
   "execution_count": null,
   "id": "69ce5e5e-e1f2-4830-a0c3-ee37ffcd4cfd",
   "metadata": {},
   "outputs": [],
   "source": [
    "from flask import Flask, request, jsonify\n",
    "import pickle\n",
    "\n",
    "app = Flask(__name__)\n",
    "\n",
    "# Load trained model\n",
    "model = pickle.load(open('trained_model.pkl', 'rb'))\n",
    "\n",
    "@app.route('/predict', methods=['POST'])\n",
    "def predict():\n",
    "    data = request.get_json()\n",
    "    prediction = model.predict(data)\n",
    "    return jsonify({'prediction': prediction.tolist()})\n",
    "\n",
    "if __name__ == '__main__':\n",
    "    app.run(debug=True)"
   ]
  },
  {
   "cell_type": "code",
   "execution_count": null,
   "id": "8395abad-d970-4ea4-9cf3-9723b1e33bce",
   "metadata": {},
   "outputs": [],
   "source": [
    "curl -X POST -H \"Content-Type: application/json\" -d '{\"x1\": 1, \"x2\": 2}' http://localhost:5000/predict"
   ]
  },
  {
   "cell_type": "code",
   "execution_count": null,
   "id": "05cd229d-ec50-4aa3-a1dc-24ebbf0c6215",
   "metadata": {},
   "outputs": [],
   "source": []
  }
 ],
 "metadata": {
  "kernelspec": {
   "display_name": "Python 3 (ipykernel)",
   "language": "python",
   "name": "python3"
  },
  "language_info": {
   "codemirror_mode": {
    "name": "ipython",
    "version": 3
   },
   "file_extension": ".py",
   "mimetype": "text/x-python",
   "name": "python",
   "nbconvert_exporter": "python",
   "pygments_lexer": "ipython3",
   "version": "3.12.4"
  }
 },
 "nbformat": 4,
 "nbformat_minor": 5
}
