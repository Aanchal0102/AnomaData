{
 "cells": [
  {
   "cell_type": "code",
   "execution_count": 16,
   "id": "fee63f6e-30ae-424e-bd50-e12dab9ef606",
   "metadata": {},
   "outputs": [],
   "source": [
    "import pandas as pd\n",
    "import numpy as np\n",
    "import re\n",
    "\n",
    "def clean_text(text):\n",
    "    # Remove punctuation, special characters, and convert to lowercase\n",
    "    text = re.sub(r'[^\\w\\s]', '', text).lower()\n",
    "    return text\n",
    "\n",
    "def preprocess_data(data):\n",
    "    # Apply clean_text function to each text sample\n",
    "    data['text'] = data['text'].apply(clean_text)\n",
    "    return data"
   ]
  },
  {
   "cell_type": "code",
   "execution_count": 18,
   "id": "683e8b64-e054-4dad-8a78-b697afc2c132",
   "metadata": {},
   "outputs": [],
   "source": [
    "import sys\n",
    "sys.path.append('/path/to/directory/containing/data_preprocessing.py')"
   ]
  },
  {
   "cell_type": "code",
   "execution_count": 20,
   "id": "bd4dc447-03e5-4b09-a9f0-74befa87e58a",
   "metadata": {},
   "outputs": [],
   "source": [
    "import pandas as pd\n",
    "import numpy as np\n",
    "import re\n",
    "\n",
    "def clean_text(text):\n",
    "    # Remove punctuation, special characters, and convert to lowercase\n",
    "    text = re.sub(r'[^\\w\\s]', '', text).lower()\n",
    "    return text\n",
    "\n",
    "def preprocess_data(data):\n",
    "    # Apply clean_text function to each text sample\n",
    "    data['text'] = data['text'].apply(clean_text)\n",
    "    return data"
   ]
  },
  {
   "cell_type": "code",
   "execution_count": null,
   "id": "004ca0d8-ef30-459d-bd7b-894fa93deb82",
   "metadata": {},
   "outputs": [],
   "source": []
  }
 ],
 "metadata": {
  "kernelspec": {
   "display_name": "Python 3 (ipykernel)",
   "language": "python",
   "name": "python3"
  },
  "language_info": {
   "codemirror_mode": {
    "name": "ipython",
    "version": 3
   },
   "file_extension": ".py",
   "mimetype": "text/x-python",
   "name": "python",
   "nbconvert_exporter": "python",
   "pygments_lexer": "ipython3",
   "version": "3.12.3"
  }
 },
 "nbformat": 4,
 "nbformat_minor": 5
}
