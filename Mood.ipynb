{
 "cells": [
  {
   "cell_type": "code",
   "execution_count": 16,
   "id": "cb98ed6e-c9cd-463c-bcff-ce2ff7ca66bd",
   "metadata": {},
   "outputs": [
    {
     "name": "stdout",
     "output_type": "stream",
     "text": [
      "                                          name                        album  \\\n",
      "0                                         1999                         1999   \n",
      "1                                           23                           23   \n",
      "2                                     9 Crimes                            9   \n",
      "3                               99 Luftballons               99 Luftballons   \n",
      "4  A Boy Brushed Red Living In Black And White  They're Only Chasing Safety   \n",
      "\n",
      "           artist                      id release_date  popularity  length  \\\n",
      "0          Prince  2H7PHVdQ3mXqEHXcvclTB0   1982-10-27          68  379266   \n",
      "1  Blonde Redhead  4HIwL9ii9CcXpTOTzMq0MP   2007-04-16          43  318800   \n",
      "2     Damien Rice  5GZEeowhvSieFDiR8fQ2im   2006-11-06          60  217946   \n",
      "3            Nena  6HA97v4wEGQ5TUClRM0XLc   1984-08-21           2  233000   \n",
      "4       Underoath  47IWLfIKOKhFnz1FUEUIkE   2004-01-01          60  268000   \n",
      "\n",
      "   danceability  acousticness  energy  instrumentalness  liveness  valence  \\\n",
      "0         0.866       0.13700   0.730          0.000000    0.0843    0.625   \n",
      "1         0.381       0.01890   0.832          0.196000    0.1530    0.166   \n",
      "2         0.346       0.91300   0.139          0.000077    0.0934    0.116   \n",
      "3         0.466       0.08900   0.438          0.000006    0.1130    0.587   \n",
      "4         0.419       0.00171   0.932          0.000000    0.1370    0.445   \n",
      "\n",
      "   loudness  speechiness    tempo  key  time_signature       mood  \n",
      "0    -8.201       0.0767  118.523    5               4      Happy  \n",
      "1    -5.069       0.0492  120.255    8               4        Sad  \n",
      "2   -15.326       0.0321  136.168    0               4        Sad  \n",
      "3   -12.858       0.0608  193.100    4               4      Happy  \n",
      "4    -3.604       0.1060  169.881    1               4  Energetic  \n"
     ]
    }
   ],
   "source": [
    "import pandas as pd\n",
    "\n",
    "# Load the dataset\n",
    "df = pd.read_csv('data_moods.csv')\n",
    "\n",
    "# View the first few rows of the dataset\n",
    "print(df.head())"
   ]
  },
  {
   "cell_type": "code",
   "execution_count": 18,
   "id": "7d9ffc9f-9e4a-4b0d-9484-244e92498c5d",
   "metadata": {},
   "outputs": [
    {
     "name": "stdout",
     "output_type": "stream",
     "text": [
      "<class 'pandas.core.frame.DataFrame'>\n",
      "RangeIndex: 686 entries, 0 to 685\n",
      "Data columns (total 19 columns):\n",
      " #   Column            Non-Null Count  Dtype  \n",
      "---  ------            --------------  -----  \n",
      " 0   name              686 non-null    object \n",
      " 1   album             686 non-null    object \n",
      " 2   artist            686 non-null    object \n",
      " 3   id                686 non-null    object \n",
      " 4   release_date      686 non-null    object \n",
      " 5   popularity        686 non-null    int64  \n",
      " 6   length            686 non-null    int64  \n",
      " 7   danceability      686 non-null    float64\n",
      " 8   acousticness      686 non-null    float64\n",
      " 9   energy            686 non-null    float64\n",
      " 10  instrumentalness  686 non-null    float64\n",
      " 11  liveness          686 non-null    float64\n",
      " 12  valence           686 non-null    float64\n",
      " 13  loudness          686 non-null    float64\n",
      " 14  speechiness       686 non-null    float64\n",
      " 15  tempo             686 non-null    float64\n",
      " 16  key               686 non-null    int64  \n",
      " 17  time_signature    686 non-null    int64  \n",
      " 18  mood              686 non-null    object \n",
      "dtypes: float64(9), int64(4), object(6)\n",
      "memory usage: 102.0+ KB\n"
     ]
    }
   ],
   "source": [
    "df.info()"
   ]
  },
  {
   "cell_type": "code",
   "execution_count": 20,
   "id": "c8271d94-5610-4b59-8268-e12b1876a95c",
   "metadata": {},
   "outputs": [
    {
     "name": "stdout",
     "output_type": "stream",
     "text": [
      "['Happy' 'Sad' 'Energetic' 'Calm']\n",
      "mood\n",
      "Sad          197\n",
      "Calm         195\n",
      "Energetic    154\n",
      "Happy        140\n",
      "Name: count, dtype: int64\n"
     ]
    }
   ],
   "source": [
    "# Check the unique values in the 'mood' column\n",
    "print(df['mood'].unique())\n",
    "\n",
    "# Check the distribution of the 'mood' column\n",
    "print(df['mood'].value_counts())"
   ]
  },
  {
   "cell_type": "code",
   "execution_count": 22,
   "id": "6a673c49-825c-445f-a49b-22858dc407da",
   "metadata": {},
   "outputs": [],
   "source": [
    "X = df.drop('mood', axis=1)\n",
    "y = df['mood']"
   ]
  },
  {
   "cell_type": "code",
   "execution_count": 28,
   "id": "d1bdfcd2-d064-44be-a866-7cd1768342e0",
   "metadata": {},
   "outputs": [],
   "source": [
    "from sklearn.model_selection import train_test_split\n",
    "\n",
    "X_train, X_test, y_train, y_test = train_test_split(X, y, test_size=0.2, random_state=42)"
   ]
  },
  {
   "cell_type": "code",
   "execution_count": null,
   "id": "437eb225-1eb3-4e40-af4a-dbabda45aa3e",
   "metadata": {},
   "outputs": [],
   "source": []
  }
 ],
 "metadata": {
  "kernelspec": {
   "display_name": "Python 3 (ipykernel)",
   "language": "python",
   "name": "python3"
  },
  "language_info": {
   "codemirror_mode": {
    "name": "ipython",
    "version": 3
   },
   "file_extension": ".py",
   "mimetype": "text/x-python",
   "name": "python",
   "nbconvert_exporter": "python",
   "pygments_lexer": "ipython3",
   "version": "3.12.4"
  }
 },
 "nbformat": 4,
 "nbformat_minor": 5
}
